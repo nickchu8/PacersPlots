{
 "cells": [
  {
   "cell_type": "code",
   "execution_count": 1,
   "metadata": {},
   "outputs": [],
   "source": [
    "import pandas as pd \n",
    "import sqlite3"
   ]
  },
  {
   "cell_type": "code",
   "execution_count": 6,
   "metadata": {},
   "outputs": [],
   "source": [
    "Players = pd.read_excel(\"Players.xlsx\")\n",
    "Teams = pd.read_excel(\"Teams.xlsx\")\n",
    "Games = pd.read_excel(\"Games.xlsx\")\n",
    "Player_Stats = pd.read_excel(\"Player_Stats.xlsx\")"
   ]
  },
  {
   "cell_type": "code",
   "execution_count": 7,
   "metadata": {},
   "outputs": [
    {
     "data": {
      "text/plain": [
       "756"
      ]
     },
     "execution_count": 7,
     "metadata": {},
     "output_type": "execute_result"
    }
   ],
   "source": [
    "conn = sqlite3.connect(\"nba.db\") \n",
    "Players.to_sql(\"Players\", conn, if_exists = \"append\", index = False)\n",
    "Teams.to_sql('Teams', conn, if_exists = \"append\", index = False)\n",
    "Games.to_sql('Games', conn, if_exists = \"append\", index = False)\n",
    "Player_Stats.to_sql('Player_Stats', conn, if_exists = \"append\", index = False)"
   ]
  },
  {
   "cell_type": "code",
   "execution_count": 8,
   "metadata": {},
   "outputs": [
    {
     "name": "stdout",
     "output_type": "stream",
     "text": [
      "[('Players',), ('Teams',), ('Games',), ('Player_Stats',)]\n"
     ]
    }
   ],
   "source": [
    "cursor = conn.cursor()\n",
    "cursor.execute(\"SELECT name FROM sqlite_master WHERE type='table'\")\n",
    "print(cursor.fetchall())\n",
    "conn.close()\n",
    "#Successfully created database of these dataframes"
   ]
  },
  {
   "cell_type": "markdown",
   "metadata": {},
   "source": [
    "## Question 1:\n",
    "Find the average points per game for each player in the '2022' season who currently\n",
    "plays for a team in the 'Western' conference. Include the player's full name and the\n",
    "average points."
   ]
  },
  {
   "cell_type": "code",
   "execution_count": null,
   "metadata": {},
   "outputs": [],
   "source": [
    "conn = sqlite3.connect('nba.db')\n",
    "cursor = conn.cursor()\n",
    "\n",
    "#SQL Query to find avg ppg for each player in 2022 season in western conference\n"
   ]
  }
 ],
 "metadata": {
  "kernelspec": {
   "display_name": "tensorflowshit",
   "language": "python",
   "name": "python3"
  },
  "language_info": {
   "codemirror_mode": {
    "name": "ipython",
    "version": 3
   },
   "file_extension": ".py",
   "mimetype": "text/x-python",
   "name": "python",
   "nbconvert_exporter": "python",
   "pygments_lexer": "ipython3",
   "version": "3.9.18"
  }
 },
 "nbformat": 4,
 "nbformat_minor": 2
}
